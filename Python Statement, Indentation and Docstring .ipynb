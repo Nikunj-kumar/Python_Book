{
 "cells": [
  {
   "cell_type": "markdown",
   "metadata": {},
   "source": [
    "# Python Statement"
   ]
  },
  {
   "cell_type": "code",
   "execution_count": 3,
   "metadata": {},
   "outputs": [
    {
     "name": "stdout",
     "output_type": "stream",
     "text": [
      "45\n",
      "45\n"
     ]
    }
   ],
   "source": [
    "# Multi-line statement\n",
    "# In Python, end of a statement is marked by a newline character. \n",
    "# But we can make a statement extend over multiple lines with the line continuation character (\\). For example:\n",
    "a = 1 + 2 + 3 + \\\n",
    "    4 + 5 + 6 + \\\n",
    "    7 + 8 + 9\n",
    "print(a)\n",
    "# This is explicit line continuation. In Python, line continuation is implied inside parentheses ( ), brackets [ ] and \n",
    "# braces { }. For instance, we can implement the above multi-line statement as\n",
    "a = (1 + 2 + 3 +\n",
    "    4 + 5 + 6 +\n",
    "    7 + 8 + 9)\n",
    "print(a)"
   ]
  },
  {
   "cell_type": "markdown",
   "metadata": {},
   "source": [
    "# Python Indentation"
   ]
  },
  {
   "cell_type": "code",
   "execution_count": 5,
   "metadata": {},
   "outputs": [
    {
     "name": "stdout",
     "output_type": "stream",
     "text": [
      "1\n",
      "2\n",
      "3\n",
      "4\n",
      "5\n"
     ]
    }
   ],
   "source": [
    "# A code block (body of a function, loop etc.) starts with indentation and ends with the first unindented line. \n",
    "# The amount of indentation is up to you, but it must be consistent throughout that block.\n",
    "# Generally four whitespaces are used for indentation and is preferred over tabs. Here is an example.\n",
    "for i in range(1,11):\n",
    "    print(i)\n",
    "    if i == 5:\n",
    "        break"
   ]
  },
  {
   "cell_type": "code",
   "execution_count": 6,
   "metadata": {},
   "outputs": [
    {
     "name": "stdout",
     "output_type": "stream",
     "text": [
      "Hello\n",
      "Hello\n"
     ]
    }
   ],
   "source": [
    "# Indentation can be ignored in line continuation. But it's a good idea to always indent. \n",
    "# It makes the code more readable. For example:\n",
    "if True:\n",
    "    print('Hello')\n",
    "    a = 5\n",
    "    \n",
    "# OR\n",
    "\n",
    "if True: print('Hello'); a = 5\n",
    "    \n",
    "# Both are valid and do the same thing. But the former style is clearer.\n",
    "# Incorrect indentation will result into IndentationError."
   ]
  },
  {
   "cell_type": "markdown",
   "metadata": {},
   "source": [
    "# Docstring in Python"
   ]
  },
  {
   "cell_type": "code",
   "execution_count": 7,
   "metadata": {},
   "outputs": [],
   "source": [
    "# Docstring is short for documentation string.\n",
    "\n",
    "# It is a string that occurs as the first statement in a module, function, class, or method definition. \n",
    "# We must write what a function/class does in the docstring.\n",
    "\n",
    "# Triple quotes are used while writing docstrings. For example:\n",
    "def double(num):\n",
    "    \"\"\"Function to double the value\"\"\"\n",
    "    return 2*num"
   ]
  },
  {
   "cell_type": "code",
   "execution_count": 8,
   "metadata": {},
   "outputs": [
    {
     "name": "stdout",
     "output_type": "stream",
     "text": [
      "Function to double the value\n"
     ]
    }
   ],
   "source": [
    "# Docstring is available to us as the attribute __doc__ of the function. \n",
    "# Issue the following code in shell once you run the above program.\n",
    "print(double.__doc__)"
   ]
  }
 ],
 "metadata": {
  "kernelspec": {
   "display_name": "Python 3",
   "language": "python",
   "name": "python3"
  },
  "language_info": {
   "codemirror_mode": {
    "name": "ipython",
    "version": 3
   },
   "file_extension": ".py",
   "mimetype": "text/x-python",
   "name": "python",
   "nbconvert_exporter": "python",
   "pygments_lexer": "ipython3",
   "version": "3.6.5"
  }
 },
 "nbformat": 4,
 "nbformat_minor": 2
}
