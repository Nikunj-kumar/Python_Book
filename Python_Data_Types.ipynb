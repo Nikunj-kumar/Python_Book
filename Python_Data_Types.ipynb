{
 "cells": [
  {
   "cell_type": "markdown",
   "metadata": {},
   "source": [
    "#                                    PYTHON for Professionals"
   ]
  },
  {
   "cell_type": "markdown",
   "metadata": {},
   "source": [
    "# Python Data Types\n"
   ]
  },
  {
   "cell_type": "code",
   "execution_count": 1,
   "metadata": {},
   "outputs": [
    {
     "name": "stdout",
     "output_type": "stream",
     "text": [
      "hello\n",
      "h\n",
      "hell\n"
     ]
    }
   ],
   "source": [
    "# String data type\n",
    "a_str = \"hello\"\n",
    "print(a_str) #output will be whole string. Hello World\n",
    "print(a_str[0]) #output will be first character. H\n",
    "print(a_str[0:4]) #output will be first five characters. Hell"
   ]
  },
  {
   "cell_type": "code",
   "execution_count": 2,
   "metadata": {},
   "outputs": [
    {
     "name": "stdout",
     "output_type": "stream",
     "text": [
      "{'orange', 'apple', 'pear', 'banana'}\n",
      "{'c', 'd', 'a', 'b', 'r'}\n",
      "{'c', 'z', 'd', 'a', 'b', 'r'}\n"
     ]
    }
   ],
   "source": [
    "# Set Data Types\n",
    "basket = {'apple', 'orange', 'apple', 'pear', 'orange', 'banana'}\n",
    "print(basket) # duplicates will be removed\n",
    "a = set('abracadabra')\n",
    "print(a) # unique letters in a\n",
    "a.add('z')\n",
    "print(a)"
   ]
  },
  {
   "cell_type": "code",
   "execution_count": 3,
   "metadata": {},
   "outputs": [],
   "source": [
    "# Numbers data type\n",
    "int_num = 10 #int value\n",
    "float_num = 10.2 #float value\n",
    "complex_num = 3.14j #complex value\n",
    "long_num = \"1234567L\" #long value"
   ]
  },
  {
   "cell_type": "code",
   "execution_count": 4,
   "metadata": {},
   "outputs": [
    {
     "name": "stdout",
     "output_type": "stream",
     "text": [
      "[123, 'abcd', 10.2, 'd']\n",
      "[123, 'abcd']\n",
      "['hello', 'world', 'hello', 'world']\n",
      "[123, 'abcd', 10.2, 'd', 'hello', 'world']\n"
     ]
    }
   ],
   "source": [
    "# List Data Type\n",
    "list = [123,'abcd',10.2,'d'] #can be an array of any data type or single data type.\n",
    "list1 = ['hello','world']\n",
    "print(list) #will output whole list. [123,'abcd',10.2,'d']\n",
    "print(list[0:2]) #will output first two element of list. [123,'abcd']\n",
    "print(list1 * 2) #will gave list1 two times. ['hello','world','hello','world']\n",
    "print(list + list1) #will gave concatenation of both the lists."
   ]
  },
  {
   "cell_type": "code",
   "execution_count": 5,
   "metadata": {},
   "outputs": [
    {
     "name": "stdout",
     "output_type": "stream",
     "text": [
      "{'name': 'red', 'age': 10}\n",
      "red\n",
      "dict_values(['red', 10])\n",
      "dict_keys(['name', 'age'])\n"
     ]
    }
   ],
   "source": [
    "# Dictionary Data Type\n",
    "dic={'name':'red','age':10}\n",
    "print(dic) #will output all the key-value pairs. {'name':'red','age':10}\n",
    "print(dic['name']) #will output only value with 'name' key. 'red'\n",
    "print(dic.values()) #will output list of values in dic. ['red',10]\n",
    "print(dic.keys()) #will output list of keys. ['name','age']"
   ]
  },
  {
   "cell_type": "code",
   "execution_count": 6,
   "metadata": {},
   "outputs": [
    {
     "name": "stdout",
     "output_type": "stream",
     "text": [
      "(123, 'hello')\n",
      "123\n",
      "(123, 'hello', 'world')\n"
     ]
    },
    {
     "ename": "TypeError",
     "evalue": "'tuple' object does not support item assignment",
     "output_type": "error",
     "traceback": [
      "\u001b[1;31m---------------------------------------------------------------------------\u001b[0m",
      "\u001b[1;31mTypeError\u001b[0m                                 Traceback (most recent call last)",
      "\u001b[1;32m<ipython-input-6-10012a3ffbc1>\u001b[0m in \u001b[0;36m<module>\u001b[1;34m()\u001b[0m\n\u001b[0;32m      6\u001b[0m \u001b[0mprint\u001b[0m\u001b[1;33m(\u001b[0m\u001b[0mtuple\u001b[0m\u001b[1;33m[\u001b[0m\u001b[1;36m0\u001b[0m\u001b[1;33m]\u001b[0m\u001b[1;33m)\u001b[0m \u001b[1;31m#will output first value. (123)\u001b[0m\u001b[1;33m\u001b[0m\u001b[0m\n\u001b[0;32m      7\u001b[0m \u001b[0mprint\u001b[0m\u001b[1;33m(\u001b[0m\u001b[0mc\u001b[0m\u001b[1;33m)\u001b[0m \u001b[1;31m#will output (123,'hello','world')\u001b[0m\u001b[1;33m\u001b[0m\u001b[0m\n\u001b[1;32m----> 8\u001b[1;33m \u001b[0mtuple\u001b[0m\u001b[1;33m[\u001b[0m\u001b[1;36m1\u001b[0m\u001b[1;33m]\u001b[0m\u001b[1;33m=\u001b[0m\u001b[1;34m'update'\u001b[0m \u001b[1;31m#this will give you error as tuples are immutable\u001b[0m\u001b[1;33m\u001b[0m\u001b[0m\n\u001b[0m",
      "\u001b[1;31mTypeError\u001b[0m: 'tuple' object does not support item assignment"
     ]
    }
   ],
   "source": [
    "# Tuple Data Type\n",
    "tuple = (123,\"hello\",)\n",
    "tuple1 = (\"world\",)\n",
    "c = tuple + tuple1\n",
    "print(tuple) #will output whole tuple. (123,'hello')\n",
    "print(tuple[0]) #will output first value. (123)\n",
    "print(c) #will output (123,'hello','world')\n",
    "tuple[1]='update' #this will give you error as tuples are immutable"
   ]
  }
 ],
 "metadata": {
  "kernelspec": {
   "display_name": "Python 3",
   "language": "python",
   "name": "python3"
  },
  "language_info": {
   "codemirror_mode": {
    "name": "ipython",
    "version": 3
   },
   "file_extension": ".py",
   "mimetype": "text/x-python",
   "name": "python",
   "nbconvert_exporter": "python",
   "pygments_lexer": "ipython3",
   "version": "3.6.5"
  }
 },
 "nbformat": 4,
 "nbformat_minor": 2
}
